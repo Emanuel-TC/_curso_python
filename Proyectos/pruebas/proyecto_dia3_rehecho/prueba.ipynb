{
 "cells": [
  {
   "cell_type": "code",
   "id": "initial_id",
   "metadata": {
    "collapsed": true,
    "ExecuteTime": {
     "end_time": "2025-02-05T21:34:03.322688Z",
     "start_time": "2025-02-05T21:34:03.312478Z"
    }
   },
   "source": "print(\"Hola\")",
   "outputs": [
    {
     "name": "stdout",
     "output_type": "stream",
     "text": [
      "Hola\n"
     ]
    }
   ],
   "execution_count": 1
  },
  {
   "metadata": {},
   "cell_type": "markdown",
   "source": "Métodos STring",
   "id": "4c425c163994624b"
  },
  {
   "metadata": {
    "ExecuteTime": {
     "end_time": "2025-02-05T21:37:51.662691Z",
     "start_time": "2025-02-05T21:37:51.650234Z"
    }
   },
   "cell_type": "code",
   "source": [
    "texto = \"Hola, este es un texto que usa Ema\"\n",
    "print(texto)"
   ],
   "id": "2e2ba9209626a9d3",
   "outputs": [
    {
     "name": "stdout",
     "output_type": "stream",
     "text": [
      "Hola, este es un texto que usa Ema\n"
     ]
    }
   ],
   "execution_count": 2
  },
  {
   "metadata": {},
   "cell_type": "markdown",
   "source": "Método Upper string.upper()",
   "id": "b0861ccf2b7a40e0"
  },
  {
   "metadata": {
    "ExecuteTime": {
     "end_time": "2025-02-05T21:38:55.729927Z",
     "start_time": "2025-02-05T21:38:55.724036Z"
    }
   },
   "cell_type": "code",
   "source": "print(texto.upper())",
   "id": "b6d5b0ee48a67137",
   "outputs": [
    {
     "name": "stdout",
     "output_type": "stream",
     "text": [
      "HOLA, ESTE ES UN TEXTO QUE USA EMA\n"
     ]
    }
   ],
   "execution_count": 3
  },
  {
   "metadata": {},
   "cell_type": "markdown",
   "source": "Método split (separa a todos los elementos por espacios por defecto)",
   "id": "74879a19efff946b"
  },
  {
   "metadata": {
    "ExecuteTime": {
     "end_time": "2025-02-05T21:40:00.210769Z",
     "start_time": "2025-02-05T21:40:00.206660Z"
    }
   },
   "cell_type": "code",
   "source": "print(texto.split())",
   "id": "24396d5b3a852faf",
   "outputs": [
    {
     "name": "stdout",
     "output_type": "stream",
     "text": [
      "['Hola,', 'este', 'es', 'un', 'texto', 'que', 'usa', 'Ema']\n"
     ]
    }
   ],
   "execution_count": 4
  },
  {
   "metadata": {},
   "cell_type": "markdown",
   "source": "Creamos una frase a partir de elementos unidos con join de string",
   "id": "684c44712107fcc5"
  },
  {
   "metadata": {
    "ExecuteTime": {
     "end_time": "2025-02-05T21:42:21.635458Z",
     "start_time": "2025-02-05T21:42:21.630563Z"
    }
   },
   "cell_type": "code",
   "source": [
    "a,b,c,d = \"Aprender\", \"Python\", \"es\", \"genial\"\n",
    "e = \" \".join([a, b, c, d])\n",
    "print(e)\n"
   ],
   "id": "320e06cc0c5b00f7",
   "outputs": [
    {
     "name": "stdout",
     "output_type": "stream",
     "text": [
      "Aprender Python es genial\n"
     ]
    }
   ],
   "execution_count": 5
  },
  {
   "metadata": {},
   "cell_type": "markdown",
   "source": "Método find",
   "id": "ac7657f1f9b3b079"
  },
  {
   "metadata": {
    "ExecuteTime": {
     "end_time": "2025-02-05T21:45:25.763546Z",
     "start_time": "2025-02-05T21:45:25.758307Z"
    }
   },
   "cell_type": "code",
   "source": "print(texto.find(\"Ema\"))",
   "id": "c9d1db57a7101dde",
   "outputs": [
    {
     "name": "stdout",
     "output_type": "stream",
     "text": [
      "31\n"
     ]
    }
   ],
   "execution_count": 6
  },
  {
   "metadata": {},
   "cell_type": "code",
   "outputs": [],
   "execution_count": null,
   "source": "",
   "id": "69dfab547e48df6e"
  }
 ],
 "metadata": {
  "kernelspec": {
   "display_name": "Python 3",
   "language": "python",
   "name": "python3"
  },
  "language_info": {
   "codemirror_mode": {
    "name": "ipython",
    "version": 2
   },
   "file_extension": ".py",
   "mimetype": "text/x-python",
   "name": "python",
   "nbconvert_exporter": "python",
   "pygments_lexer": "ipython2",
   "version": "2.7.6"
  }
 },
 "nbformat": 4,
 "nbformat_minor": 5
}
