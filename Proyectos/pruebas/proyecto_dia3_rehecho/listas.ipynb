{
 "cells": [
  {
   "metadata": {
    "ExecuteTime": {
     "end_time": "2025-02-14T20:43:45.741024Z",
     "start_time": "2025-02-14T20:43:45.734070Z"
    }
   },
   "cell_type": "code",
   "source": [
    "mi_lista = [\"a\", \"b\", \"c\", \"d\", \"e\", \"f\"]\n",
    "print(type(mi_lista))\n",
    "otra_lista = [1, 2, \"a\", \"b\"]\n",
    "print(otra_lista[0:3])"
   ],
   "id": "3672debab215797e",
   "outputs": [
    {
     "name": "stdout",
     "output_type": "stream",
     "text": [
      "<class 'list'>\n",
      "[1, 2, 'a']\n"
     ]
    }
   ],
   "execution_count": 5
  },
  {
   "metadata": {
    "ExecuteTime": {
     "end_time": "2025-02-14T20:44:32.192584Z",
     "start_time": "2025-02-14T20:44:32.188001Z"
    }
   },
   "cell_type": "code",
   "source": "print(mi_lista + otra_lista)",
   "id": "da3d1a311b002845",
   "outputs": [
    {
     "name": "stdout",
     "output_type": "stream",
     "text": [
      "['a', 'b', 'c', 'd', 'e', 'f', 1, 2, 'a', 'b']\n"
     ]
    }
   ],
   "execution_count": 6
  },
  {
   "metadata": {
    "ExecuteTime": {
     "end_time": "2025-02-14T20:46:07.844736Z",
     "start_time": "2025-02-14T20:46:07.837611Z"
    }
   },
   "cell_type": "code",
   "source": [
    "mi_lista = mi_lista + otra_lista\n",
    "mi_lista[0] = \"HOla\"\n",
    "print(mi_lista)"
   ],
   "id": "76cbb94b1abd66fe",
   "outputs": [
    {
     "name": "stdout",
     "output_type": "stream",
     "text": [
      "['HOla', 'b', 'c', 'd', 'e', 'f', 1, 2, 'a', 'b', 1, 2, 'a', 'b']\n"
     ]
    }
   ],
   "execution_count": 8
  },
  {
   "metadata": {
    "ExecuteTime": {
     "end_time": "2025-02-14T20:48:12.978099Z",
     "start_time": "2025-02-14T20:48:12.972989Z"
    }
   },
   "cell_type": "code",
   "source": [
    "for i in range(2):\n",
    "    for e in mi_lista[::7]:\n",
    "        mi_lista.append(e)\n",
    "print(mi_lista)"
   ],
   "id": "c1037b4f4d7ce29f",
   "outputs": [
    {
     "name": "stdout",
     "output_type": "stream",
     "text": [
      "['HOla', 'b', 'c', 'd', 'e', 'f', 1, 2, 'a', 'b', 1, 2, 'a', 'b', 'HOla', 2, 'HOla', 2, 'HOla']\n"
     ]
    }
   ],
   "execution_count": 9
  }
 ],
 "metadata": {
  "kernelspec": {
   "display_name": "Python 3",
   "language": "python",
   "name": "python3"
  },
  "language_info": {
   "codemirror_mode": {
    "name": "ipython",
    "version": 2
   },
   "file_extension": ".py",
   "mimetype": "text/x-python",
   "name": "python",
   "nbconvert_exporter": "python",
   "pygments_lexer": "ipython2",
   "version": "2.7.6"
  }
 },
 "nbformat": 4,
 "nbformat_minor": 5
}
